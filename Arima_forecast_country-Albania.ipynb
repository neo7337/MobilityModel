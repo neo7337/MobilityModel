{
  "nbformat": 4,
  "nbformat_minor": 0,
  "metadata": {
    "kernelspec": {
      "display_name": "Python 3",
      "language": "python",
      "name": "python3"
    },
    "language_info": {
      "codemirror_mode": {
        "name": "ipython",
        "version": 3
      },
      "file_extension": ".py",
      "mimetype": "text/x-python",
      "name": "python",
      "nbconvert_exporter": "python",
      "pygments_lexer": "ipython3",
      "version": "3.7.3"
    },
    "colab": {
      "name": "Arima_forecast.ipynb",
      "provenance": [],
      "machine_shape": "hm"
    }
  },
  "cells": [
    {
      "cell_type": "code",
      "metadata": {
        "id": "G8eG51Eszdkk",
        "colab_type": "code",
        "colab": {}
      },
      "source": [
        "import pandas as pd\n",
        "import numpy as np\n",
        "import datetime\n",
        "import requests\n",
        "import warnings\n",
        "\n",
        "import matplotlib.pyplot as plt\n",
        "import matplotlib\n",
        "import matplotlib.dates as mdates\n",
        "import seaborn as sns\n",
        "# import squarify\n",
        "import plotly.offline as py\n",
        "# import plotly_express as px\n",
        "\n",
        "# from xgboost import XGBRegressor\n",
        "# from lightgbm import LGBMRegressor\n",
        "from sklearn.ensemble import RandomForestRegressor\n",
        "from sklearn.svm import SVR\n",
        "from sklearn.metrics import mean_squared_error, mean_absolute_error\n",
        "from sklearn.preprocessing import OrdinalEncoder\n",
        "from sklearn.svm import SVR\n",
        "from sklearn.model_selection import train_test_split\n",
        "from sklearn.model_selection import TimeSeriesSplit\n",
        "import statsmodels.api as sm\n",
        "from statsmodels.tsa.stattools import adfuller, acf, pacf,arma_order_select_ic\n",
        "from statsmodels.graphics.tsaplots import plot_acf, plot_pacf\n",
        "from statsmodels.tsa.arima_model import ARIMA\n",
        "# from fbprophet import Prophet\n",
        "# from fbprophet.plot import plot_plotly, add_changepoints_to_plot"
      ],
      "execution_count": 28,
      "outputs": []
    },
    {
      "cell_type": "code",
      "metadata": {
        "id": "5APHv2Ir1VYN",
        "colab_type": "code",
        "colab": {
          "resources": {
            "http://localhost:8080/nbextensions/google.colab/files.js": {
              "data": "Ly8gQ29weXJpZ2h0IDIwMTcgR29vZ2xlIExMQwovLwovLyBMaWNlbnNlZCB1bmRlciB0aGUgQXBhY2hlIExpY2Vuc2UsIFZlcnNpb24gMi4wICh0aGUgIkxpY2Vuc2UiKTsKLy8geW91IG1heSBub3QgdXNlIHRoaXMgZmlsZSBleGNlcHQgaW4gY29tcGxpYW5jZSB3aXRoIHRoZSBMaWNlbnNlLgovLyBZb3UgbWF5IG9idGFpbiBhIGNvcHkgb2YgdGhlIExpY2Vuc2UgYXQKLy8KLy8gICAgICBodHRwOi8vd3d3LmFwYWNoZS5vcmcvbGljZW5zZXMvTElDRU5TRS0yLjAKLy8KLy8gVW5sZXNzIHJlcXVpcmVkIGJ5IGFwcGxpY2FibGUgbGF3IG9yIGFncmVlZCB0byBpbiB3cml0aW5nLCBzb2Z0d2FyZQovLyBkaXN0cmlidXRlZCB1bmRlciB0aGUgTGljZW5zZSBpcyBkaXN0cmlidXRlZCBvbiBhbiAiQVMgSVMiIEJBU0lTLAovLyBXSVRIT1VUIFdBUlJBTlRJRVMgT1IgQ09ORElUSU9OUyBPRiBBTlkgS0lORCwgZWl0aGVyIGV4cHJlc3Mgb3IgaW1wbGllZC4KLy8gU2VlIHRoZSBMaWNlbnNlIGZvciB0aGUgc3BlY2lmaWMgbGFuZ3VhZ2UgZ292ZXJuaW5nIHBlcm1pc3Npb25zIGFuZAovLyBsaW1pdGF0aW9ucyB1bmRlciB0aGUgTGljZW5zZS4KCi8qKgogKiBAZmlsZW92ZXJ2aWV3IEhlbHBlcnMgZm9yIGdvb2dsZS5jb2xhYiBQeXRob24gbW9kdWxlLgogKi8KKGZ1bmN0aW9uKHNjb3BlKSB7CmZ1bmN0aW9uIHNwYW4odGV4dCwgc3R5bGVBdHRyaWJ1dGVzID0ge30pIHsKICBjb25zdCBlbGVtZW50ID0gZG9jdW1lbnQuY3JlYXRlRWxlbWVudCgnc3BhbicpOwogIGVsZW1lbnQudGV4dENvbnRlbnQgPSB0ZXh0OwogIGZvciAoY29uc3Qga2V5IG9mIE9iamVjdC5rZXlzKHN0eWxlQXR0cmlidXRlcykpIHsKICAgIGVsZW1lbnQuc3R5bGVba2V5XSA9IHN0eWxlQXR0cmlidXRlc1trZXldOwogIH0KICByZXR1cm4gZWxlbWVudDsKfQoKLy8gTWF4IG51bWJlciBvZiBieXRlcyB3aGljaCB3aWxsIGJlIHVwbG9hZGVkIGF0IGEgdGltZS4KY29uc3QgTUFYX1BBWUxPQURfU0laRSA9IDEwMCAqIDEwMjQ7CgpmdW5jdGlvbiBfdXBsb2FkRmlsZXMoaW5wdXRJZCwgb3V0cHV0SWQpIHsKICBjb25zdCBzdGVwcyA9IHVwbG9hZEZpbGVzU3RlcChpbnB1dElkLCBvdXRwdXRJZCk7CiAgY29uc3Qgb3V0cHV0RWxlbWVudCA9IGRvY3VtZW50LmdldEVsZW1lbnRCeUlkKG91dHB1dElkKTsKICAvLyBDYWNoZSBzdGVwcyBvbiB0aGUgb3V0cHV0RWxlbWVudCB0byBtYWtlIGl0IGF2YWlsYWJsZSBmb3IgdGhlIG5leHQgY2FsbAogIC8vIHRvIHVwbG9hZEZpbGVzQ29udGludWUgZnJvbSBQeXRob24uCiAgb3V0cHV0RWxlbWVudC5zdGVwcyA9IHN0ZXBzOwoKICByZXR1cm4gX3VwbG9hZEZpbGVzQ29udGludWUob3V0cHV0SWQpOwp9CgovLyBUaGlzIGlzIHJvdWdobHkgYW4gYXN5bmMgZ2VuZXJhdG9yIChub3Qgc3VwcG9ydGVkIGluIHRoZSBicm93c2VyIHlldCksCi8vIHdoZXJlIHRoZXJlIGFyZSBtdWx0aXBsZSBhc3luY2hyb25vdXMgc3RlcHMgYW5kIHRoZSBQeXRob24gc2lkZSBpcyBnb2luZwovLyB0byBwb2xsIGZvciBjb21wbGV0aW9uIG9mIGVhY2ggc3RlcC4KLy8gVGhpcyB1c2VzIGEgUHJvbWlzZSB0byBibG9jayB0aGUgcHl0aG9uIHNpZGUgb24gY29tcGxldGlvbiBvZiBlYWNoIHN0ZXAsCi8vIHRoZW4gcGFzc2VzIHRoZSByZXN1bHQgb2YgdGhlIHByZXZpb3VzIHN0ZXAgYXMgdGhlIGlucHV0IHRvIHRoZSBuZXh0IHN0ZXAuCmZ1bmN0aW9uIF91cGxvYWRGaWxlc0NvbnRpbnVlKG91dHB1dElkKSB7CiAgY29uc3Qgb3V0cHV0RWxlbWVudCA9IGRvY3VtZW50LmdldEVsZW1lbnRCeUlkKG91dHB1dElkKTsKICBjb25zdCBzdGVwcyA9IG91dHB1dEVsZW1lbnQuc3RlcHM7CgogIGNvbnN0IG5leHQgPSBzdGVwcy5uZXh0KG91dHB1dEVsZW1lbnQubGFzdFByb21pc2VWYWx1ZSk7CiAgcmV0dXJuIFByb21pc2UucmVzb2x2ZShuZXh0LnZhbHVlLnByb21pc2UpLnRoZW4oKHZhbHVlKSA9PiB7CiAgICAvLyBDYWNoZSB0aGUgbGFzdCBwcm9taXNlIHZhbHVlIHRvIG1ha2UgaXQgYXZhaWxhYmxlIHRvIHRoZSBuZXh0CiAgICAvLyBzdGVwIG9mIHRoZSBnZW5lcmF0b3IuCiAgICBvdXRwdXRFbGVtZW50Lmxhc3RQcm9taXNlVmFsdWUgPSB2YWx1ZTsKICAgIHJldHVybiBuZXh0LnZhbHVlLnJlc3BvbnNlOwogIH0pOwp9CgovKioKICogR2VuZXJhdG9yIGZ1bmN0aW9uIHdoaWNoIGlzIGNhbGxlZCBiZXR3ZWVuIGVhY2ggYXN5bmMgc3RlcCBvZiB0aGUgdXBsb2FkCiAqIHByb2Nlc3MuCiAqIEBwYXJhbSB7c3RyaW5nfSBpbnB1dElkIEVsZW1lbnQgSUQgb2YgdGhlIGlucHV0IGZpbGUgcGlja2VyIGVsZW1lbnQuCiAqIEBwYXJhbSB7c3RyaW5nfSBvdXRwdXRJZCBFbGVtZW50IElEIG9mIHRoZSBvdXRwdXQgZGlzcGxheS4KICogQHJldHVybiB7IUl0ZXJhYmxlPCFPYmplY3Q+fSBJdGVyYWJsZSBvZiBuZXh0IHN0ZXBzLgogKi8KZnVuY3Rpb24qIHVwbG9hZEZpbGVzU3RlcChpbnB1dElkLCBvdXRwdXRJZCkgewogIGNvbnN0IGlucHV0RWxlbWVudCA9IGRvY3VtZW50LmdldEVsZW1lbnRCeUlkKGlucHV0SWQpOwogIGlucHV0RWxlbWVudC5kaXNhYmxlZCA9IGZhbHNlOwoKICBjb25zdCBvdXRwdXRFbGVtZW50ID0gZG9jdW1lbnQuZ2V0RWxlbWVudEJ5SWQob3V0cHV0SWQpOwogIG91dHB1dEVsZW1lbnQuaW5uZXJIVE1MID0gJyc7CgogIGNvbnN0IHBpY2tlZFByb21pc2UgPSBuZXcgUHJvbWlzZSgocmVzb2x2ZSkgPT4gewogICAgaW5wdXRFbGVtZW50LmFkZEV2ZW50TGlzdGVuZXIoJ2NoYW5nZScsIChlKSA9PiB7CiAgICAgIHJlc29sdmUoZS50YXJnZXQuZmlsZXMpOwogICAgfSk7CiAgfSk7CgogIGNvbnN0IGNhbmNlbCA9IGRvY3VtZW50LmNyZWF0ZUVsZW1lbnQoJ2J1dHRvbicpOwogIGlucHV0RWxlbWVudC5wYXJlbnRFbGVtZW50LmFwcGVuZENoaWxkKGNhbmNlbCk7CiAgY2FuY2VsLnRleHRDb250ZW50ID0gJ0NhbmNlbCB1cGxvYWQnOwogIGNvbnN0IGNhbmNlbFByb21pc2UgPSBuZXcgUHJvbWlzZSgocmVzb2x2ZSkgPT4gewogICAgY2FuY2VsLm9uY2xpY2sgPSAoKSA9PiB7CiAgICAgIHJlc29sdmUobnVsbCk7CiAgICB9OwogIH0pOwoKICAvLyBXYWl0IGZvciB0aGUgdXNlciB0byBwaWNrIHRoZSBmaWxlcy4KICBjb25zdCBmaWxlcyA9IHlpZWxkIHsKICAgIHByb21pc2U6IFByb21pc2UucmFjZShbcGlja2VkUHJvbWlzZSwgY2FuY2VsUHJvbWlzZV0pLAogICAgcmVzcG9uc2U6IHsKICAgICAgYWN0aW9uOiAnc3RhcnRpbmcnLAogICAgfQogIH07CgogIGNhbmNlbC5yZW1vdmUoKTsKCiAgLy8gRGlzYWJsZSB0aGUgaW5wdXQgZWxlbWVudCBzaW5jZSBmdXJ0aGVyIHBpY2tzIGFyZSBub3QgYWxsb3dlZC4KICBpbnB1dEVsZW1lbnQuZGlzYWJsZWQgPSB0cnVlOwoKICBpZiAoIWZpbGVzKSB7CiAgICByZXR1cm4gewogICAgICByZXNwb25zZTogewogICAgICAgIGFjdGlvbjogJ2NvbXBsZXRlJywKICAgICAgfQogICAgfTsKICB9CgogIGZvciAoY29uc3QgZmlsZSBvZiBmaWxlcykgewogICAgY29uc3QgbGkgPSBkb2N1bWVudC5jcmVhdGVFbGVtZW50KCdsaScpOwogICAgbGkuYXBwZW5kKHNwYW4oZmlsZS5uYW1lLCB7Zm9udFdlaWdodDogJ2JvbGQnfSkpOwogICAgbGkuYXBwZW5kKHNwYW4oCiAgICAgICAgYCgke2ZpbGUudHlwZSB8fCAnbi9hJ30pIC0gJHtmaWxlLnNpemV9IGJ5dGVzLCBgICsKICAgICAgICBgbGFzdCBtb2RpZmllZDogJHsKICAgICAgICAgICAgZmlsZS5sYXN0TW9kaWZpZWREYXRlID8gZmlsZS5sYXN0TW9kaWZpZWREYXRlLnRvTG9jYWxlRGF0ZVN0cmluZygpIDoKICAgICAgICAgICAgICAgICAgICAgICAgICAgICAgICAgICAgJ24vYSd9IC0gYCkpOwogICAgY29uc3QgcGVyY2VudCA9IHNwYW4oJzAlIGRvbmUnKTsKICAgIGxpLmFwcGVuZENoaWxkKHBlcmNlbnQpOwoKICAgIG91dHB1dEVsZW1lbnQuYXBwZW5kQ2hpbGQobGkpOwoKICAgIGNvbnN0IGZpbGVEYXRhUHJvbWlzZSA9IG5ldyBQcm9taXNlKChyZXNvbHZlKSA9PiB7CiAgICAgIGNvbnN0IHJlYWRlciA9IG5ldyBGaWxlUmVhZGVyKCk7CiAgICAgIHJlYWRlci5vbmxvYWQgPSAoZSkgPT4gewogICAgICAgIHJlc29sdmUoZS50YXJnZXQucmVzdWx0KTsKICAgICAgfTsKICAgICAgcmVhZGVyLnJlYWRBc0FycmF5QnVmZmVyKGZpbGUpOwogICAgfSk7CiAgICAvLyBXYWl0IGZvciB0aGUgZGF0YSB0byBiZSByZWFkeS4KICAgIGxldCBmaWxlRGF0YSA9IHlpZWxkIHsKICAgICAgcHJvbWlzZTogZmlsZURhdGFQcm9taXNlLAogICAgICByZXNwb25zZTogewogICAgICAgIGFjdGlvbjogJ2NvbnRpbnVlJywKICAgICAgfQogICAgfTsKCiAgICAvLyBVc2UgYSBjaHVua2VkIHNlbmRpbmcgdG8gYXZvaWQgbWVzc2FnZSBzaXplIGxpbWl0cy4gU2VlIGIvNjIxMTU2NjAuCiAgICBsZXQgcG9zaXRpb24gPSAwOwogICAgd2hpbGUgKHBvc2l0aW9uIDwgZmlsZURhdGEuYnl0ZUxlbmd0aCkgewogICAgICBjb25zdCBsZW5ndGggPSBNYXRoLm1pbihmaWxlRGF0YS5ieXRlTGVuZ3RoIC0gcG9zaXRpb24sIE1BWF9QQVlMT0FEX1NJWkUpOwogICAgICBjb25zdCBjaHVuayA9IG5ldyBVaW50OEFycmF5KGZpbGVEYXRhLCBwb3NpdGlvbiwgbGVuZ3RoKTsKICAgICAgcG9zaXRpb24gKz0gbGVuZ3RoOwoKICAgICAgY29uc3QgYmFzZTY0ID0gYnRvYShTdHJpbmcuZnJvbUNoYXJDb2RlLmFwcGx5KG51bGwsIGNodW5rKSk7CiAgICAgIHlpZWxkIHsKICAgICAgICByZXNwb25zZTogewogICAgICAgICAgYWN0aW9uOiAnYXBwZW5kJywKICAgICAgICAgIGZpbGU6IGZpbGUubmFtZSwKICAgICAgICAgIGRhdGE6IGJhc2U2NCwKICAgICAgICB9LAogICAgICB9OwogICAgICBwZXJjZW50LnRleHRDb250ZW50ID0KICAgICAgICAgIGAke01hdGgucm91bmQoKHBvc2l0aW9uIC8gZmlsZURhdGEuYnl0ZUxlbmd0aCkgKiAxMDApfSUgZG9uZWA7CiAgICB9CiAgfQoKICAvLyBBbGwgZG9uZS4KICB5aWVsZCB7CiAgICByZXNwb25zZTogewogICAgICBhY3Rpb246ICdjb21wbGV0ZScsCiAgICB9CiAgfTsKfQoKc2NvcGUuZ29vZ2xlID0gc2NvcGUuZ29vZ2xlIHx8IHt9OwpzY29wZS5nb29nbGUuY29sYWIgPSBzY29wZS5nb29nbGUuY29sYWIgfHwge307CnNjb3BlLmdvb2dsZS5jb2xhYi5fZmlsZXMgPSB7CiAgX3VwbG9hZEZpbGVzLAogIF91cGxvYWRGaWxlc0NvbnRpbnVlLAp9Owp9KShzZWxmKTsK",
              "ok": true,
              "headers": [
                [
                  "content-type",
                  "application/javascript"
                ]
              ],
              "status": 200,
              "status_text": "OK"
            }
          },
          "base_uri": "https://localhost:8080/",
          "height": 74
        },
        "outputId": "61020577-f583-48d7-f66a-2528f9c0e15e"
      },
      "source": [
        "\n",
        "# from google.colab import files \n",
        "  \n",
        "  \n",
        "# uploaded = files.upload()\n"
      ],
      "execution_count": 2,
      "outputs": [
        {
          "output_type": "display_data",
          "data": {
            "text/html": [
              "\n",
              "     <input type=\"file\" id=\"files-414e7307-6e5e-40dd-aabf-c874f499dbdf\" name=\"files[]\" multiple disabled\n",
              "        style=\"border:none\" />\n",
              "     <output id=\"result-414e7307-6e5e-40dd-aabf-c874f499dbdf\">\n",
              "      Upload widget is only available when the cell has been executed in the\n",
              "      current browser session. Please rerun this cell to enable.\n",
              "      </output>\n",
              "      <script src=\"/nbextensions/google.colab/files.js\"></script> "
            ],
            "text/plain": [
              "<IPython.core.display.HTML object>"
            ]
          },
          "metadata": {
            "tags": []
          }
        },
        {
          "output_type": "stream",
          "text": [
            "Saving finalDataset.csv to finalDataset.csv\n"
          ],
          "name": "stdout"
        }
      ]
    },
    {
      "cell_type": "code",
      "metadata": {
        "id": "A-5ETj2w1VdF",
        "colab_type": "code",
        "colab": {}
      },
      "source": [
        ""
      ],
      "execution_count": 2,
      "outputs": []
    },
    {
      "cell_type": "code",
      "metadata": {
        "id": "OUYLIvBczdkt",
        "colab_type": "code",
        "colab": {
          "base_uri": "https://localhost:8080/",
          "height": 206
        },
        "outputId": "3b3c2a21-ab58-403a-ef25-e815db5bbc97"
      },
      "source": [
        "cdata= pd.read_csv(r'C:\\Users\\KC.MARK-50\\Documents\\coursera\\AWS\\build with serverless\\MobilityModel\\flask-server\\finalDataset.csv', index_col=0)\n",
        "cdata.head()"
      ],
      "execution_count": 29,
      "outputs": [
        {
          "output_type": "execute_result",
          "data": {
            "text/html": [
              "<div>\n",
              "<style scoped>\n",
              "    .dataframe tbody tr th:only-of-type {\n",
              "        vertical-align: middle;\n",
              "    }\n",
              "\n",
              "    .dataframe tbody tr th {\n",
              "        vertical-align: top;\n",
              "    }\n",
              "\n",
              "    .dataframe thead th {\n",
              "        text-align: right;\n",
              "    }\n",
              "</style>\n",
              "<table border=\"1\" class=\"dataframe\">\n",
              "  <thead>\n",
              "    <tr style=\"text-align: right;\">\n",
              "      <th></th>\n",
              "      <th>country</th>\n",
              "      <th>sub-region</th>\n",
              "      <th>date</th>\n",
              "      <th>driving</th>\n",
              "      <th>transit</th>\n",
              "      <th>walking</th>\n",
              "      <th>Confirmed</th>\n",
              "      <th>Deaths</th>\n",
              "      <th>Recovered</th>\n",
              "    </tr>\n",
              "  </thead>\n",
              "  <tbody>\n",
              "    <tr>\n",
              "      <th>0</th>\n",
              "      <td>Albania</td>\n",
              "      <td>Total</td>\n",
              "      <td>2020-01-22</td>\n",
              "      <td>-6.49</td>\n",
              "      <td>NaN</td>\n",
              "      <td>-4.61</td>\n",
              "      <td>0</td>\n",
              "      <td>0</td>\n",
              "      <td>0</td>\n",
              "    </tr>\n",
              "    <tr>\n",
              "      <th>1</th>\n",
              "      <td>Albania</td>\n",
              "      <td>Total</td>\n",
              "      <td>2020-01-23</td>\n",
              "      <td>-7.06</td>\n",
              "      <td>NaN</td>\n",
              "      <td>-5.76</td>\n",
              "      <td>0</td>\n",
              "      <td>0</td>\n",
              "      <td>0</td>\n",
              "    </tr>\n",
              "    <tr>\n",
              "      <th>2</th>\n",
              "      <td>Albania</td>\n",
              "      <td>Total</td>\n",
              "      <td>2020-01-24</td>\n",
              "      <td>2.13</td>\n",
              "      <td>NaN</td>\n",
              "      <td>-6.27</td>\n",
              "      <td>0</td>\n",
              "      <td>0</td>\n",
              "      <td>0</td>\n",
              "    </tr>\n",
              "    <tr>\n",
              "      <th>3</th>\n",
              "      <td>Albania</td>\n",
              "      <td>Total</td>\n",
              "      <td>2020-01-25</td>\n",
              "      <td>2.38</td>\n",
              "      <td>NaN</td>\n",
              "      <td>-2.94</td>\n",
              "      <td>0</td>\n",
              "      <td>0</td>\n",
              "      <td>0</td>\n",
              "    </tr>\n",
              "    <tr>\n",
              "      <th>4</th>\n",
              "      <td>Albania</td>\n",
              "      <td>Total</td>\n",
              "      <td>2020-01-26</td>\n",
              "      <td>1.41</td>\n",
              "      <td>NaN</td>\n",
              "      <td>-22.73</td>\n",
              "      <td>0</td>\n",
              "      <td>0</td>\n",
              "      <td>0</td>\n",
              "    </tr>\n",
              "  </tbody>\n",
              "</table>\n",
              "</div>"
            ],
            "text/plain": [
              "   country sub-region        date  ...  Confirmed  Deaths  Recovered\n",
              "0  Albania      Total  2020-01-22  ...          0       0          0\n",
              "1  Albania      Total  2020-01-23  ...          0       0          0\n",
              "2  Albania      Total  2020-01-24  ...          0       0          0\n",
              "3  Albania      Total  2020-01-25  ...          0       0          0\n",
              "4  Albania      Total  2020-01-26  ...          0       0          0\n",
              "\n",
              "[5 rows x 9 columns]"
            ]
          },
          "metadata": {
            "tags": []
          },
          "execution_count": 29
        }
      ]
    },
    {
      "cell_type": "code",
      "metadata": {
        "id": "GsuxxpUbzdk2",
        "colab_type": "code",
        "colab": {
          "base_uri": "https://localhost:8080/",
          "height": 166
        },
        "outputId": "ff9ddc80-5f23-4ac0-9852-082df0a15bf4"
      },
      "source": [
        "cdata['date'] =  pd.to_datetime(cdata['date'], infer_datetime_format=True)\n",
        "cdata = cdata.set_index('date')\n",
        "cdata.index"
      ],
      "execution_count": 30,
      "outputs": [
        {
          "output_type": "execute_result",
          "data": {
            "text/plain": [
              "DatetimeIndex(['2020-01-22', '2020-01-23', '2020-01-24', '2020-01-25',\n",
              "               '2020-01-26', '2020-01-27', '2020-01-28', '2020-01-29',\n",
              "               '2020-01-30', '2020-01-31',\n",
              "               ...\n",
              "               '2020-09-14', '2020-09-15', '2020-09-15', '2020-09-15',\n",
              "               '2020-09-16', '2020-09-16', '2020-09-16', '2020-09-17',\n",
              "               '2020-09-17', '2020-09-17'],\n",
              "              dtype='datetime64[ns]', name='date', length=252663, freq=None)"
            ]
          },
          "metadata": {
            "tags": []
          },
          "execution_count": 30
        }
      ]
    },
    {
      "cell_type": "code",
      "metadata": {
        "id": "up72aJ0pzdk9",
        "colab_type": "code",
        "colab": {}
      },
      "source": [
        "df = cdata.head(10)"
      ],
      "execution_count": 32,
      "outputs": []
    },
    {
      "cell_type": "code",
      "metadata": {
        "id": "15NOxZR2zdlC",
        "colab_type": "code",
        "colab": {}
      },
      "source": [
        "confirmed_d = cdata['Confirmed'].resample('MS').mean()\n",
        "deaths_d = cdata['Deaths'].resample('MS').mean()\n",
        "recovered_d= cdata['Recovered'].resample('MS').mean()\n",
        "driving_d= cdata['driving'].resample('MS').mean()\n",
        "walking_d= cdata['transit'].resample('MS').mean()\n",
        "transit_d= cdata['walking'].resample('MS').mean()"
      ],
      "execution_count": 33,
      "outputs": []
    },
    {
      "cell_type": "code",
      "metadata": {
        "id": "TKXgZ6vXzdlH",
        "colab_type": "code",
        "colab": {}
      },
      "source": [
        "def scoring_rmse(y_pred, y_test):\n",
        "    print(y_pred)\n",
        "    print(y_test)\n",
        "    rmse = np.sqrt(np.mean(np.square(y_test.values - y_pred.values)))\n",
        "    return rmse\n",
        "\n",
        "def scoring_mape(pred,test):\n",
        "    try:\n",
        "        mape = np.mean(np.abs((test - pred) / test))\n",
        "    except:\n",
        "        mape = -1\n",
        "    return mape"
      ],
      "execution_count": 34,
      "outputs": []
    },
    {
      "cell_type": "code",
      "metadata": {
        "id": "K8fCVKa0zdlN",
        "colab_type": "code",
        "colab": {}
      },
      "source": [
        "def data_creation_sarima(data,division):\n",
        "    \"\"\"\n",
        "    return\n",
        "    -----------------\n",
        "    split[0]: training set\n",
        "    split[1]: test set\n",
        "    \"\"\"\n",
        "    split = []\n",
        "    div = division\n",
        "    data.fillna(method='ffill',inplace=True)\n",
        "    train_size = int(len(data) * div)\n",
        "    train, test = data[0:train_size], data[train_size:len(data)]\n",
        "    split.append(train)\n",
        "    split.append(test)\n",
        "    return(split)"
      ],
      "execution_count": 35,
      "outputs": []
    },
    {
      "cell_type": "code",
      "metadata": {
        "id": "E0QD4ACkzdlR",
        "colab_type": "code",
        "colab": {}
      },
      "source": [
        "def sarimax_modelling2(data,exog,div=0.9,max_range=1):\n",
        "    seas_values = [12]\n",
        "    result_list = []\n",
        "    train_size = int(len(data) * div)\n",
        "    min_rmse = 999999\n",
        "    mape = 99999\n",
        "    param = None\n",
        "    seas_param = None\n",
        "    train_exog,test_exog = exog[0:train_size], exog[train_size:len(data)]\n",
        "    for i in seas_values:\n",
        "#         try:\n",
        "#             result_list.append(get_sarimax(data,train_exog,test_exog,max_range,seasonal_factor=i))\n",
        "        temp_res = get_sarimax(data,train_exog,test_exog,max_range,seasonal_factor=i)\n",
        "        temp_rmse = temp_res['rmse']\n",
        "        if temp_rmse<min_rmse:\n",
        "            min_rmse = temp_rmse\n",
        "            param = temp_res['parameter']\n",
        "            seas_param = temp_res['seasonal paramater']\n",
        "            mape = temp_res['mape']\n",
        "#         except:\n",
        "#             pass\n",
        "    return {'param':param,'seas_param':seas_param,'rmse':min_rmse,'mape':mape}"
      ],
      "execution_count": 36,
      "outputs": []
    },
    {
      "cell_type": "code",
      "metadata": {
        "id": "IfS6AbZjzdlU",
        "colab_type": "code",
        "colab": {}
      },
      "source": [
        "def get_sarimax(trend,exog_train,exog_test,max_range=3,seasonal_factor=12):\n",
        "    #sarima modelling on trend with period = 12\n",
        "    train,test = data_creation_sarima(trend,0.9)\n",
        "    param_order = []\n",
        "    param_seas = []\n",
        "    p = d = q = range(0, max_range)\n",
        "    pdq = list(itertools.product(p, d, q))\n",
        "\n",
        "    #seasonal parameter = seasonal_factor\n",
        "    seasonal_pdq = [(x[0], x[1], x[2], seasonal_factor) for x in list(itertools.product(p, d, q))]\n",
        "#     print(pdq,seasonal_pdq)\n",
        "    \n",
        "    min_rmse=9999999\n",
        "    min_model_mape = 9999999\n",
        "    min_model_aic = 9999999\n",
        "    final_predictions=-1 \n",
        "    result_param=-1 \n",
        "    result_param_seasonal=-1\n",
        "    for i in [(1,1,1)]:#range(0,len(pdq)):\n",
        "        for j in [(1,0,0,12)]:#range(0,len(seasonal_pdq)):\n",
        "#             try:\n",
        "\n",
        "            param = pdq[i]\n",
        "            param_seasonal = seasonal_pdq[j]\n",
        "            mod = sm.tsa.statespace.SARIMAX(train,exog=exog_train,order=param,seasonal_order=param_seasonal,enforce_stationarity=False,enforce_invertibility=False)\n",
        "            results = mod.fit()\n",
        "            aic_value = results.aic\n",
        "#                 if math.isnan(temp) or math.isinf(temp):\n",
        "#                     temp = 999.99\n",
        "            pred = results.predict(len(train),len(trend)-1,exog = exog_test)\n",
        "            rmse = scoring_rmse(pred,test)\n",
        "            mape = scoring_mape(pred,test)\n",
        "#                 print(pred,rmse,mape)\n",
        "            if rmse < min_rmse:\n",
        "                min_rmse = rmse\n",
        "                min_model_aic = aic_value\n",
        "                min_model_mape = mape\n",
        "                result_param = param\n",
        "                result_param_seasonal = param_seasonal\n",
        "                final_predictions = pred\n",
        "\n",
        "#             except:\n",
        "#                 continue\n",
        "                    \n",
        "    return {'rmse':min_rmse, 'mape':min_model_mape, 'aic':min_model_aic, 'prediction':final_predictions, 'parameter':result_param, 'seasonal paramater':result_param_seasonal}\n"
      ],
      "execution_count": 37,
      "outputs": []
    },
    {
      "cell_type": "code",
      "metadata": {
        "id": "aB8siGnmzdlZ",
        "colab_type": "code",
        "colab": {}
      },
      "source": [
        "def fcast_sarimax(arima,exog_forecast,n):\n",
        "    #forecasts\n",
        "    pred_uc = arima.get_forecast(steps=n,exog=exog_forecast)\n",
        "    forecast = pred_uc.predicted_mean\n",
        "    print(forecast.tail(12))\n",
        "\n",
        "    #plotting\n",
        "#     pred_ci = pred_uc.conf_int()\n",
        "#     ax = df.plot(label='observed', figsize=(14, 4))\n",
        "#     pred_uc.predicted_mean.plot(ax=ax, label='Forecast')\n",
        "#     ax.fill_between(pred_ci.index,\n",
        "#                     pred_ci.iloc[:, 0],\n",
        "#                     pred_ci.iloc[:, 1], color='k', alpha=.25)\n",
        "#     ax.set_xlabel('Month')\n",
        "#     ax.set_ylabel('Revenue')\n",
        "#     plt.legend()\n",
        "#     plt.show()\n",
        "    return(forecast.tail(n))"
      ],
      "execution_count": 38,
      "outputs": []
    },
    {
      "cell_type": "code",
      "metadata": {
        "id": "8jdgTGPszdlc",
        "colab_type": "code",
        "colab": {}
      },
      "source": [
        "def sarimax(train,exog_train,p,d,q,P,D,Q,M,summary=True):\n",
        "    arima = sm.tsa.statespace.SARIMAX(train,exog=exog_train,order=(p,d,q),seasonal_order=(P,D,Q,M),enforce_stationarity=False, enforce_invertibility=False).fit()\n",
        "    if summary==True:\n",
        "        arima.summary()\n",
        "    return(arima)"
      ],
      "execution_count": 39,
      "outputs": []
    },
    {
      "cell_type": "code",
      "metadata": {
        "id": "LkSZEqEazdlh",
        "colab_type": "code",
        "colab": {
          "base_uri": "https://localhost:8080/",
          "height": 1000
        },
        "outputId": "b85b36d2-fc5d-4557-ff7c-9b133ca578f5"
      },
      "source": [
        "data = cdata['Confirmed'].astype(float)\n",
        "# exog = cdata[['driving','transit','walking'],'date']\n",
        "exog = cdata[['driving','transit','walking']].fillna(method='ffill').fillna(0).astype(float)\n",
        "\n",
        "p,d,q,P,D,Q,M = 1,1,1,1,0,0,12\n",
        "model = sarimax(data,None,p,d,q,P,D,Q,M,summary=False)\n",
        "\n",
        "#need to create the exog_forecast dataframe which contains exogenous variables for future time\n",
        "# forecast = fcast_sarimax(model,None,10)\n",
        "exog_list=['driving','walking','transit']\n",
        "exog_df = pd.DataFrame()\n",
        "for var in exog_list:\n",
        "    data_ = cdata[var]\n",
        "    model_ = sarimax(data_,None,p,d,q,P,D,Q,M,summary=False)\n",
        "    forecast_ = fcast_sarimax(model_,None,30)\n",
        "    exog_df[var] = forecast_\n",
        "\n",
        "# loop ended here\n",
        "#replace exog in last line with exog_df and 10 by 30\n",
        "\n",
        "forecast = fcast_sarimax(model,exog_df,30)\n"
      ],
      "execution_count": 22,
      "outputs": [
        {
          "output_type": "stream",
          "text": [
            "/usr/local/lib/python3.6/dist-packages/statsmodels/tsa/base/tsa_model.py:219: ValueWarning:\n",
            "\n",
            "A date index has been provided, but it has no associated frequency information and so will be ignored when e.g. forecasting.\n",
            "\n",
            "/usr/local/lib/python3.6/dist-packages/statsmodels/tsa/base/tsa_model.py:219: ValueWarning:\n",
            "\n",
            "A date index has been provided, but it has no associated frequency information and so will be ignored when e.g. forecasting.\n",
            "\n",
            "/usr/local/lib/python3.6/dist-packages/statsmodels/tsa/base/tsa_model.py:576: ValueWarning:\n",
            "\n",
            "No supported index is available. Prediction results will be given with an integer index beginning at `start`.\n",
            "\n"
          ],
          "name": "stderr"
        },
        {
          "output_type": "stream",
          "text": [
            "252681   -4.468744\n",
            "252682   -4.468196\n",
            "252683   -4.467089\n",
            "252684   -4.467676\n",
            "252685   -4.468886\n",
            "252686   -4.467015\n",
            "252687   -4.467554\n",
            "252688   -4.467656\n",
            "252689   -4.467649\n",
            "252690   -4.467659\n",
            "252691   -4.467658\n",
            "252692   -4.467641\n",
            "dtype: float64\n"
          ],
          "name": "stdout"
        },
        {
          "output_type": "stream",
          "text": [
            "/usr/local/lib/python3.6/dist-packages/statsmodels/tsa/base/tsa_model.py:219: ValueWarning:\n",
            "\n",
            "A date index has been provided, but it has no associated frequency information and so will be ignored when e.g. forecasting.\n",
            "\n",
            "/usr/local/lib/python3.6/dist-packages/statsmodels/tsa/base/tsa_model.py:576: ValueWarning:\n",
            "\n",
            "No supported index is available. Prediction results will be given with an integer index beginning at `start`.\n",
            "\n"
          ],
          "name": "stderr"
        },
        {
          "output_type": "stream",
          "text": [
            "252681    12.010090\n",
            "252682    12.010503\n",
            "252683    12.010635\n",
            "252684    12.010673\n",
            "252685    12.010682\n",
            "252686    12.010995\n",
            "252687    12.010900\n",
            "252688    12.010849\n",
            "252689    12.010814\n",
            "252690    12.010798\n",
            "252691    12.010787\n",
            "252692    12.010780\n",
            "dtype: float64\n"
          ],
          "name": "stdout"
        },
        {
          "output_type": "stream",
          "text": [
            "/usr/local/lib/python3.6/dist-packages/statsmodels/tsa/base/tsa_model.py:219: ValueWarning:\n",
            "\n",
            "A date index has been provided, but it has no associated frequency information and so will be ignored when e.g. forecasting.\n",
            "\n",
            "/usr/local/lib/python3.6/dist-packages/statsmodels/tsa/base/tsa_model.py:576: ValueWarning:\n",
            "\n",
            "No supported index is available. Prediction results will be given with an integer index beginning at `start`.\n",
            "\n"
          ],
          "name": "stderr"
        },
        {
          "output_type": "stream",
          "text": [
            "252681    21.645465\n",
            "252682    21.645465\n",
            "252683    21.645465\n",
            "252684    21.645465\n",
            "252685    21.645465\n",
            "252686    21.645465\n",
            "252687    21.645465\n",
            "252688    21.645465\n",
            "252689    21.645465\n",
            "252690    21.645465\n",
            "252691    21.645465\n",
            "252692    21.645465\n",
            "dtype: float64\n"
          ],
          "name": "stdout"
        },
        {
          "output_type": "stream",
          "text": [
            "/usr/local/lib/python3.6/dist-packages/statsmodels/tsa/statespace/sarimax.py:1935: ValueWarning:\n",
            "\n",
            "Exogenous array provided to predict, but additional data not required. `exog` argument ignored.\n",
            "\n",
            "/usr/local/lib/python3.6/dist-packages/statsmodels/tsa/base/tsa_model.py:576: ValueWarning:\n",
            "\n",
            "No supported index is available. Prediction results will be given with an integer index beginning at `start`.\n",
            "\n"
          ],
          "name": "stderr"
        },
        {
          "output_type": "stream",
          "text": [
            "252681    1064.041985\n",
            "252682    1064.042026\n",
            "252683    1064.042038\n",
            "252684    1064.250328\n",
            "252685    1064.250329\n",
            "252686    1064.250329\n",
            "252687    1064.171125\n",
            "252688    1064.148922\n",
            "252689    1064.142698\n",
            "252690    1064.140953\n",
            "252691    1064.140464\n",
            "252692    1064.140327\n",
            "dtype: float64\n"
          ],
          "name": "stdout"
        }
      ]
    },
    {
      "cell_type": "code",
      "metadata": {
        "id": "AV_5Slhaq_Nm",
        "colab_type": "code",
        "colab": {
          "base_uri": "https://localhost:8080/",
          "height": 596
        },
        "outputId": "15d68b5a-5dad-4bd4-b92b-aeb3108f1b01"
      },
      "source": [
        "print(forecast)"
      ],
      "execution_count": 23,
      "outputs": [
        {
          "output_type": "stream",
          "text": [
            "252663    1064.859206\n",
            "252664    1064.539412\n",
            "252665    1064.449764\n",
            "252666    1064.424634\n",
            "252667    1064.417589\n",
            "252668    1064.415614\n",
            "252669    1064.415061\n",
            "252670    1064.414906\n",
            "252671    1064.414862\n",
            "252672    1063.624368\n",
            "252673    1063.624365\n",
            "252674    1063.624364\n",
            "252675    1063.924956\n",
            "252676    1064.009220\n",
            "252677    1064.032841\n",
            "252678    1064.039463\n",
            "252679    1064.041319\n",
            "252680    1064.041839\n",
            "252681    1064.041985\n",
            "252682    1064.042026\n",
            "252683    1064.042038\n",
            "252684    1064.250328\n",
            "252685    1064.250329\n",
            "252686    1064.250329\n",
            "252687    1064.171125\n",
            "252688    1064.148922\n",
            "252689    1064.142698\n",
            "252690    1064.140953\n",
            "252691    1064.140464\n",
            "252692    1064.140327\n",
            "dtype: float64\n"
          ],
          "name": "stdout"
        }
      ]
    },
    {
      "cell_type": "code",
      "metadata": {
        "id": "EhltdzpXtXxj",
        "colab_type": "code",
        "colab": {
          "base_uri": "https://localhost:8080/",
          "height": 129
        },
        "outputId": "a7558ad4-6c97-4f12-cf66-62eeb7e3cd96"
      },
      "source": [
        "forecast.tail()"
      ],
      "execution_count": 25,
      "outputs": [
        {
          "output_type": "execute_result",
          "data": {
            "text/plain": [
              "252688    1064.148922\n",
              "252689    1064.142698\n",
              "252690    1064.140953\n",
              "252691    1064.140464\n",
              "252692    1064.140327\n",
              "dtype: float64"
            ]
          },
          "metadata": {
            "tags": []
          },
          "execution_count": 25
        }
      ]
    },
    {
      "cell_type": "code",
      "metadata": {
        "id": "XObHyyKYyFxU",
        "colab_type": "code",
        "colab": {
          "base_uri": "https://localhost:8080/",
          "height": 1000
        },
        "outputId": "7637cb7a-57a2-463a-8399-7cea0b5160b7"
      },
      "source": [
        "data_req = cdata.loc[cdata['country']=='Albania']\n",
        "data = data_req['Confirmed'].astype(float)\n",
        "# exog = cdata[['driving','transit','walking'],'date']\n",
        "exog = data_req[['Confirmed','transit','walking']].fillna(method='ffill').fillna(0).astype(float)\n",
        "\n",
        "p,d,q,P,D,Q,M = 1,1,1,1,0,0,12\n",
        "model = sarimax(data,None,p,d,q,P,D,Q,M,summary=False)\n",
        "\n",
        "#need to create the exog_forecast dataframe which contains exogenous variables for future time\n",
        "# forecast = fcast_sarimax(model,None,10)\n",
        "exog_list=['driving','walking','transit']\n",
        "exog_df = pd.DataFrame()\n",
        "for var in exog_list:\n",
        "    data_ = cdata[var]\n",
        "    model_ = sarimax(data_,None,p,d,q,P,D,Q,M,summary=False)\n",
        "    forecast_ = fcast_sarimax(model_,None,30)\n",
        "    exog_df[var] = forecast_\n",
        "\n",
        "# loop ended here\n",
        "#replace exog in last line with exog_df and 10 by 30\n",
        "\n",
        "forecast_drive = fcast_sarimax(model,exog_df,30)\n",
        "forecast_drive['date'] = pd.date_range(start_date, periods = 30, freq ='H')\n",
        "forecast_drive.to_json()\n",
        "forecast_drive"
      ],
      "execution_count": 46,
      "outputs": [
        {
          "output_type": "stream",
          "text": [
            "/usr/local/lib/python3.6/dist-packages/statsmodels/tsa/base/tsa_model.py:219: ValueWarning:\n",
            "\n",
            "A date index has been provided, but it has no associated frequency information and so will be ignored when e.g. forecasting.\n",
            "\n",
            "/usr/local/lib/python3.6/dist-packages/statsmodels/tsa/base/tsa_model.py:219: ValueWarning:\n",
            "\n",
            "A date index has been provided, but it has no associated frequency information and so will be ignored when e.g. forecasting.\n",
            "\n",
            "/usr/local/lib/python3.6/dist-packages/statsmodels/tsa/base/tsa_model.py:576: ValueWarning:\n",
            "\n",
            "No supported index is available. Prediction results will be given with an integer index beginning at `start`.\n",
            "\n"
          ],
          "name": "stderr"
        },
        {
          "output_type": "stream",
          "text": [
            "252681   -4.468744\n",
            "252682   -4.468196\n",
            "252683   -4.467089\n",
            "252684   -4.467676\n",
            "252685   -4.468886\n",
            "252686   -4.467015\n",
            "252687   -4.467554\n",
            "252688   -4.467656\n",
            "252689   -4.467649\n",
            "252690   -4.467659\n",
            "252691   -4.467658\n",
            "252692   -4.467641\n",
            "dtype: float64\n"
          ],
          "name": "stdout"
        },
        {
          "output_type": "stream",
          "text": [
            "/usr/local/lib/python3.6/dist-packages/statsmodels/tsa/base/tsa_model.py:219: ValueWarning:\n",
            "\n",
            "A date index has been provided, but it has no associated frequency information and so will be ignored when e.g. forecasting.\n",
            "\n",
            "/usr/local/lib/python3.6/dist-packages/statsmodels/tsa/base/tsa_model.py:576: ValueWarning:\n",
            "\n",
            "No supported index is available. Prediction results will be given with an integer index beginning at `start`.\n",
            "\n"
          ],
          "name": "stderr"
        },
        {
          "output_type": "stream",
          "text": [
            "252681    12.010090\n",
            "252682    12.010503\n",
            "252683    12.010635\n",
            "252684    12.010673\n",
            "252685    12.010682\n",
            "252686    12.010995\n",
            "252687    12.010900\n",
            "252688    12.010849\n",
            "252689    12.010814\n",
            "252690    12.010798\n",
            "252691    12.010787\n",
            "252692    12.010780\n",
            "dtype: float64\n"
          ],
          "name": "stdout"
        },
        {
          "output_type": "stream",
          "text": [
            "/usr/local/lib/python3.6/dist-packages/statsmodels/tsa/base/tsa_model.py:219: ValueWarning:\n",
            "\n",
            "A date index has been provided, but it has no associated frequency information and so will be ignored when e.g. forecasting.\n",
            "\n",
            "/usr/local/lib/python3.6/dist-packages/statsmodels/tsa/base/tsa_model.py:576: ValueWarning:\n",
            "\n",
            "No supported index is available. Prediction results will be given with an integer index beginning at `start`.\n",
            "\n"
          ],
          "name": "stderr"
        },
        {
          "output_type": "stream",
          "text": [
            "252681    21.645465\n",
            "252682    21.645465\n",
            "252683    21.645465\n",
            "252684    21.645465\n",
            "252685    21.645465\n",
            "252686    21.645465\n",
            "252687    21.645465\n",
            "252688    21.645465\n",
            "252689    21.645465\n",
            "252690    21.645465\n",
            "252691    21.645465\n",
            "252692    21.645465\n",
            "dtype: float64\n",
            "256    14827.707622\n",
            "257    14987.073603\n",
            "258    15147.255302\n",
            "259    15308.255925\n",
            "260    15470.080154\n",
            "261    15632.731932\n",
            "262    15796.217214\n",
            "263    15960.539430\n",
            "264    16125.702861\n",
            "265    16291.711819\n",
            "266    16458.570633\n",
            "267    16626.283654\n",
            "dtype: float64\n"
          ],
          "name": "stdout"
        },
        {
          "output_type": "stream",
          "text": [
            "/usr/local/lib/python3.6/dist-packages/statsmodels/tsa/statespace/sarimax.py:1935: ValueWarning:\n",
            "\n",
            "Exogenous array provided to predict, but additional data not required. `exog` argument ignored.\n",
            "\n",
            "/usr/local/lib/python3.6/dist-packages/statsmodels/tsa/base/tsa_model.py:576: ValueWarning:\n",
            "\n",
            "No supported index is available. Prediction results will be given with an integer index beginning at `start`.\n",
            "\n"
          ],
          "name": "stderr"
        }
      ]
    },
    {
      "cell_type": "code",
      "metadata": {
        "id": "mxelhVYJ57ZM",
        "colab_type": "code",
        "colab": {
          "base_uri": "https://localhost:8080/",
          "height": 596
        },
        "outputId": "75b3b9e2-480b-44a8-8ef8-781b47da3355"
      },
      "source": [
        "# forecast_drive"
      ],
      "execution_count": 47,
      "outputs": [
        {
          "output_type": "execute_result",
          "data": {
            "text/plain": [
              "238    12092.770294\n",
              "239    12238.258554\n",
              "240    12384.451896\n",
              "241    12531.420673\n",
              "242    12679.177006\n",
              "243    12827.724714\n",
              "244    12977.050991\n",
              "245    13127.168018\n",
              "246    13278.038063\n",
              "247    13429.548525\n",
              "248    13581.761569\n",
              "249    13734.647849\n",
              "250    13888.417448\n",
              "251    14042.974051\n",
              "252    14198.321549\n",
              "253    14354.464546\n",
              "254    14511.407182\n",
              "255    14669.153549\n",
              "256    14827.707622\n",
              "257    14987.073603\n",
              "258    15147.255302\n",
              "259    15308.255925\n",
              "260    15470.080154\n",
              "261    15632.731932\n",
              "262    15796.217214\n",
              "263    15960.539430\n",
              "264    16125.702861\n",
              "265    16291.711819\n",
              "266    16458.570633\n",
              "267    16626.283654\n",
              "dtype: float64"
            ]
          },
          "metadata": {
            "tags": []
          },
          "execution_count": 47
        }
      ]
    },
    {
      "cell_type": "code",
      "metadata": {
        "id": "F55l_5Zx029o",
        "colab_type": "code",
        "colab": {
          "base_uri": "https://localhost:8080/",
          "height": 455
        },
        "outputId": "f212b0fd-d43b-4b64-f89e-e8f76046d4c2"
      },
      "source": [
        "data_req = cdata.loc[cdata['country']=='Albania']\n",
        "data_req"
      ],
      "execution_count": 48,
      "outputs": [
        {
          "output_type": "execute_result",
          "data": {
            "text/html": [
              "<div>\n",
              "<style scoped>\n",
              "    .dataframe tbody tr th:only-of-type {\n",
              "        vertical-align: middle;\n",
              "    }\n",
              "\n",
              "    .dataframe tbody tr th {\n",
              "        vertical-align: top;\n",
              "    }\n",
              "\n",
              "    .dataframe thead th {\n",
              "        text-align: right;\n",
              "    }\n",
              "</style>\n",
              "<table border=\"1\" class=\"dataframe\">\n",
              "  <thead>\n",
              "    <tr style=\"text-align: right;\">\n",
              "      <th></th>\n",
              "      <th>country</th>\n",
              "      <th>sub-region</th>\n",
              "      <th>driving</th>\n",
              "      <th>transit</th>\n",
              "      <th>walking</th>\n",
              "      <th>Confirmed</th>\n",
              "      <th>Deaths</th>\n",
              "      <th>Recovered</th>\n",
              "    </tr>\n",
              "    <tr>\n",
              "      <th>date</th>\n",
              "      <th></th>\n",
              "      <th></th>\n",
              "      <th></th>\n",
              "      <th></th>\n",
              "      <th></th>\n",
              "      <th></th>\n",
              "      <th></th>\n",
              "      <th></th>\n",
              "    </tr>\n",
              "  </thead>\n",
              "  <tbody>\n",
              "    <tr>\n",
              "      <th>2020-01-22</th>\n",
              "      <td>Albania</td>\n",
              "      <td>Total</td>\n",
              "      <td>-6.49</td>\n",
              "      <td>NaN</td>\n",
              "      <td>-4.61</td>\n",
              "      <td>0</td>\n",
              "      <td>0</td>\n",
              "      <td>0</td>\n",
              "    </tr>\n",
              "    <tr>\n",
              "      <th>2020-01-23</th>\n",
              "      <td>Albania</td>\n",
              "      <td>Total</td>\n",
              "      <td>-7.06</td>\n",
              "      <td>NaN</td>\n",
              "      <td>-5.76</td>\n",
              "      <td>0</td>\n",
              "      <td>0</td>\n",
              "      <td>0</td>\n",
              "    </tr>\n",
              "    <tr>\n",
              "      <th>2020-01-24</th>\n",
              "      <td>Albania</td>\n",
              "      <td>Total</td>\n",
              "      <td>2.13</td>\n",
              "      <td>NaN</td>\n",
              "      <td>-6.27</td>\n",
              "      <td>0</td>\n",
              "      <td>0</td>\n",
              "      <td>0</td>\n",
              "    </tr>\n",
              "    <tr>\n",
              "      <th>2020-01-25</th>\n",
              "      <td>Albania</td>\n",
              "      <td>Total</td>\n",
              "      <td>2.38</td>\n",
              "      <td>NaN</td>\n",
              "      <td>-2.94</td>\n",
              "      <td>0</td>\n",
              "      <td>0</td>\n",
              "      <td>0</td>\n",
              "    </tr>\n",
              "    <tr>\n",
              "      <th>2020-01-26</th>\n",
              "      <td>Albania</td>\n",
              "      <td>Total</td>\n",
              "      <td>1.41</td>\n",
              "      <td>NaN</td>\n",
              "      <td>-22.73</td>\n",
              "      <td>0</td>\n",
              "      <td>0</td>\n",
              "      <td>0</td>\n",
              "    </tr>\n",
              "    <tr>\n",
              "      <th>...</th>\n",
              "      <td>...</td>\n",
              "      <td>...</td>\n",
              "      <td>...</td>\n",
              "      <td>...</td>\n",
              "      <td>...</td>\n",
              "      <td>...</td>\n",
              "      <td>...</td>\n",
              "      <td>...</td>\n",
              "    </tr>\n",
              "    <tr>\n",
              "      <th>2020-09-13</th>\n",
              "      <td>Albania</td>\n",
              "      <td>Total</td>\n",
              "      <td>73.76</td>\n",
              "      <td>NaN</td>\n",
              "      <td>54.67</td>\n",
              "      <td>11353</td>\n",
              "      <td>334</td>\n",
              "      <td>6569</td>\n",
              "    </tr>\n",
              "    <tr>\n",
              "      <th>2020-09-14</th>\n",
              "      <td>Albania</td>\n",
              "      <td>Total</td>\n",
              "      <td>42.75</td>\n",
              "      <td>NaN</td>\n",
              "      <td>59.40</td>\n",
              "      <td>11520</td>\n",
              "      <td>338</td>\n",
              "      <td>6615</td>\n",
              "    </tr>\n",
              "    <tr>\n",
              "      <th>2020-09-15</th>\n",
              "      <td>Albania</td>\n",
              "      <td>Total</td>\n",
              "      <td>44.04</td>\n",
              "      <td>NaN</td>\n",
              "      <td>57.19</td>\n",
              "      <td>11672</td>\n",
              "      <td>340</td>\n",
              "      <td>6668</td>\n",
              "    </tr>\n",
              "    <tr>\n",
              "      <th>2020-09-16</th>\n",
              "      <td>Albania</td>\n",
              "      <td>Total</td>\n",
              "      <td>35.62</td>\n",
              "      <td>NaN</td>\n",
              "      <td>60.34</td>\n",
              "      <td>11816</td>\n",
              "      <td>343</td>\n",
              "      <td>6733</td>\n",
              "    </tr>\n",
              "    <tr>\n",
              "      <th>2020-09-17</th>\n",
              "      <td>Albania</td>\n",
              "      <td>Total</td>\n",
              "      <td>40.86</td>\n",
              "      <td>NaN</td>\n",
              "      <td>61.07</td>\n",
              "      <td>11948</td>\n",
              "      <td>347</td>\n",
              "      <td>6788</td>\n",
              "    </tr>\n",
              "  </tbody>\n",
              "</table>\n",
              "<p>238 rows × 8 columns</p>\n",
              "</div>"
            ],
            "text/plain": [
              "            country sub-region  driving  ...  Confirmed  Deaths  Recovered\n",
              "date                                     ...                              \n",
              "2020-01-22  Albania      Total    -6.49  ...          0       0          0\n",
              "2020-01-23  Albania      Total    -7.06  ...          0       0          0\n",
              "2020-01-24  Albania      Total     2.13  ...          0       0          0\n",
              "2020-01-25  Albania      Total     2.38  ...          0       0          0\n",
              "2020-01-26  Albania      Total     1.41  ...          0       0          0\n",
              "...             ...        ...      ...  ...        ...     ...        ...\n",
              "2020-09-13  Albania      Total    73.76  ...      11353     334       6569\n",
              "2020-09-14  Albania      Total    42.75  ...      11520     338       6615\n",
              "2020-09-15  Albania      Total    44.04  ...      11672     340       6668\n",
              "2020-09-16  Albania      Total    35.62  ...      11816     343       6733\n",
              "2020-09-17  Albania      Total    40.86  ...      11948     347       6788\n",
              "\n",
              "[238 rows x 8 columns]"
            ]
          },
          "metadata": {
            "tags": []
          },
          "execution_count": 48
        }
      ]
    },
    {
      "cell_type": "markdown",
      "metadata": {
        "id": "LLVSGz4yzdln",
        "colab_type": "text"
      },
      "source": [
        "# Warning Cell: Don't run after this cell"
      ]
    },
    {
      "cell_type": "markdown",
      "metadata": {
        "id": "hNE3FY2bzdln",
        "colab_type": "text"
      },
      "source": [
        "### The below one is useless, just the above one will do"
      ]
    },
    {
      "cell_type": "code",
      "metadata": {
        "id": "QaZovT5rzdly",
        "colab_type": "code",
        "colab": {}
      },
      "source": [
        "pred = results.get_prediction(start=pd.to_datetime('2020-09-17'), dynamic=False)\n",
        "pred_ci = pred.conf_int()\n",
        "\n",
        "ax = confirmed_d['2020':].plot(label='observed')\n",
        "pred.predicted_mean.plot(ax=ax, label='One-step ahead Forecast', alpha=.7, figsize=(14, 7))ax.fill_between(pred_ci.index,\n",
        "                pred_ci.iloc[:, 0],\n",
        "                pred_ci.iloc[:, 1], color='k', alpha=.2)\n",
        "ax.set_xlabel('Date')\n",
        "ax.set_ylabel('Confirmed Cases')\n",
        "plt.legend()\n",
        "plt.show()"
      ],
      "execution_count": null,
      "outputs": []
    },
    {
      "cell_type": "code",
      "metadata": {
        "id": "miJwLBYKzdl2",
        "colab_type": "code",
        "colab": {}
      },
      "source": [
        "confirmed_forecasted = pred.predicted_mean\n",
        "confirmed_truth = confirmed_d['2020-09-17':]mse = ((confirmed_forecasted - confirmed_truth) ** 2).mean()\n",
        "print('The Mean Squared Error of our forecasts is {}'.format(round(mse, 2)))"
      ],
      "execution_count": null,
      "outputs": []
    },
    {
      "cell_type": "code",
      "metadata": {
        "id": "cT3Cqg1hzdl4",
        "colab_type": "code",
        "colab": {}
      },
      "source": [
        "pred_uc = results.get_forecast(steps=100)\n",
        "pred_ci = pred_uc.conf_int()ax = confirmed_d.plot(label='observed', figsize=(14, 7))\n",
        "pred_uc.predicted_mean.plot(ax=ax, label='Forecast')\n",
        "ax.fill_between(pred_ci.index,\n",
        "                pred_ci.iloc[:, 0],\n",
        "                pred_ci.iloc[:, 1], color='k', alpha=.25)\n",
        "ax.set_xlabel('Date')\n",
        "ax.set_ylabel('Confirmed Cases')\n",
        "plt.legend()\n",
        "plt.show()"
      ],
      "execution_count": null,
      "outputs": []
    }
  ]
}