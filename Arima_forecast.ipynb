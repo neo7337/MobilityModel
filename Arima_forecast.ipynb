{
  "nbformat": 4,
  "nbformat_minor": 0,
  "metadata": {
    "kernelspec": {
      "display_name": "Python 3.8.5 64-bit",
      "language": "python",
      "name": "python_defaultSpec_1600711435846"
    },
    "language_info": {
      "codemirror_mode": {
        "name": "ipython",
        "version": 3
      },
      "file_extension": ".py",
      "mimetype": "text/x-python",
      "name": "python",
      "nbconvert_exporter": "python",
      "pygments_lexer": "ipython3",
      "version": "3.8.5-final"
    },
    "colab": {
      "name": "Arima_forecast.ipynb",
      "provenance": [],
      "machine_shape": "hm"
    }
  },
  "cells": [
    {
      "cell_type": "code",
      "execution_count": null,
      "metadata": {},
      "outputs": [],
      "source": [
        "#imported all the modules required\n",
        "\n",
        "import pandas as pd\n",
        "import numpy as np\n",
        "import datetime\n",
        "import requests\n",
        "import warnings\n",
        "import matplotlib.pyplot as plt\n",
        "import matplotlib\n",
        "import matplotlib.dates as mdates\n",
        "import seaborn as sns\n",
        "import plotly.offline as py\n",
        "import statsmodels.api as sm\n",
        "from statsmodels.tsa.stattools import adfuller, acf, pacf,arma_order_select_ic\n",
        "from statsmodels.graphics.tsaplots import plot_acf, plot_pacf\n",
        "from statsmodels.tsa.arima_model import ARIMA"
      ]
    },
    {
      "cell_type": "code",
      "metadata": {
        "id": "TKXgZ6vXzdlH",
        "colab_type": "code",
        "colab": {}
      },
      "source": [
        "def scoring_rmse(y_pred, y_test):\n",
        "    print(y_pred)\n",
        "    print(y_test)\n",
        "    rmse = np.sqrt(np.mean(np.square(y_test.values - y_pred.values)))\n",
        "    return rmse\n",
        "\n",
        "def scoring_mape(pred,test):\n",
        "    try:\n",
        "        mape = np.mean(np.abs((test - pred) / test))\n",
        "    except:\n",
        "        mape = -1\n",
        "    return mape"
      ],
      "execution_count": 5,
      "outputs": []
    },
    {
      "cell_type": "code",
      "metadata": {
        "id": "K8fCVKa0zdlN",
        "colab_type": "code",
        "colab": {}
      },
      "source": [
        "def data_creation_sarima(data,division):\n",
        "    \"\"\"\n",
        "    return\n",
        "    -----------------\n",
        "    split[0]: training set\n",
        "    split[1]: test set\n",
        "    \"\"\"\n",
        "    split = []\n",
        "    div = division\n",
        "    data.fillna(method='ffill',inplace=True)\n",
        "    train_size = int(len(data) * div)\n",
        "    train, test = data[0:train_size], data[train_size:len(data)]\n",
        "    split.append(train)\n",
        "    split.append(test)\n",
        "    return(split)"
      ],
      "execution_count": 6,
      "outputs": []
    },
    {
      "cell_type": "code",
      "metadata": {
        "id": "E0QD4ACkzdlR",
        "colab_type": "code",
        "colab": {}
      },
      "source": [
        "def sarimax_modelling2(data,exog,div=0.9,max_range=1):\n",
        "    seas_values = [12]\n",
        "    result_list = []\n",
        "    train_size = int(len(data) * div)\n",
        "    min_rmse = 999999\n",
        "    mape = 99999\n",
        "    param = None\n",
        "    seas_param = None\n",
        "    train_exog,test_exog = exog[0:train_size], exog[train_size:len(data)]\n",
        "    for i in seas_values:\n",
        "#         try:\n",
        "#             result_list.append(get_sarimax(data,train_exog,test_exog,max_range,seasonal_factor=i))\n",
        "        temp_res = get_sarimax(data,train_exog,test_exog,max_range,seasonal_factor=i)\n",
        "        temp_rmse = temp_res['rmse']\n",
        "        if temp_rmse<min_rmse:\n",
        "            min_rmse = temp_rmse\n",
        "            param = temp_res['parameter']\n",
        "            seas_param = temp_res['seasonal paramater']\n",
        "            mape = temp_res['mape']\n",
        "#         except:\n",
        "#             pass\n",
        "    return {'param':param,'seas_param':seas_param,'rmse':min_rmse,'mape':mape}"
      ],
      "execution_count": 7,
      "outputs": []
    },
    {
      "cell_type": "code",
      "metadata": {
        "id": "IfS6AbZjzdlU",
        "colab_type": "code",
        "colab": {}
      },
      "source": [
        "def get_sarimax(trend,exog_train,exog_test,max_range=3,seasonal_factor=12):\n",
        "    #sarima modelling on trend with period = 12\n",
        "    train,test = data_creation_sarima(trend,0.9)\n",
        "    param_order = []\n",
        "    param_seas = []\n",
        "    p = d = q = range(0, max_range)\n",
        "    pdq = list(itertools.product(p, d, q))\n",
        "\n",
        "    #seasonal parameter = seasonal_factor\n",
        "    seasonal_pdq = [(x[0], x[1], x[2], seasonal_factor) for x in list(itertools.product(p, d, q))]\n",
        "#     print(pdq,seasonal_pdq)\n",
        "    \n",
        "    min_rmse=9999999\n",
        "    min_model_mape = 9999999\n",
        "    min_model_aic = 9999999\n",
        "    final_predictions=-1 \n",
        "    result_param=-1 \n",
        "    result_param_seasonal=-1\n",
        "    for i in [(1,1,1)]:#range(0,len(pdq)):\n",
        "        for j in [(1,0,0,12)]:#range(0,len(seasonal_pdq)):\n",
        "#             try:\n",
        "\n",
        "            param = pdq[i]\n",
        "            param_seasonal = seasonal_pdq[j]\n",
        "            mod = sm.tsa.statespace.SARIMAX(train,exog=exog_train,order=param,seasonal_order=param_seasonal,enforce_stationarity=False,enforce_invertibility=False)\n",
        "            results = mod.fit()\n",
        "            aic_value = results.aic\n",
        "#                 if math.isnan(temp) or math.isinf(temp):\n",
        "#                     temp = 999.99\n",
        "            pred = results.predict(len(train),len(trend)-1,exog = exog_test)\n",
        "            rmse = scoring_rmse(pred,test)\n",
        "            mape = scoring_mape(pred,test)\n",
        "#                 print(pred,rmse,mape)\n",
        "            if rmse < min_rmse:\n",
        "                min_rmse = rmse\n",
        "                min_model_aic = aic_value\n",
        "                min_model_mape = mape\n",
        "                result_param = param\n",
        "                result_param_seasonal = param_seasonal\n",
        "                final_predictions = pred\n",
        "\n",
        "#             except:\n",
        "#                 continue\n",
        "                    \n",
        "    return {'rmse':min_rmse, 'mape':min_model_mape, 'aic':min_model_aic, 'prediction':final_predictions, 'parameter':result_param, 'seasonal paramater':result_param_seasonal}\n"
      ],
      "execution_count": 8,
      "outputs": []
    },
    {
      "cell_type": "code",
      "metadata": {
        "id": "aB8siGnmzdlZ",
        "colab_type": "code",
        "colab": {}
      },
      "source": [
        "def fcast_sarimax(arima,exog_forecast,n):\n",
        "    #forecasts\n",
        "    pred_uc = arima.get_forecast(steps=n,exog=exog_forecast)\n",
        "    forecast = pred_uc.predicted_mean\n",
        "    print(forecast.tail(12))\n",
        "\n",
        "    #plotting\n",
        "#     pred_ci = pred_uc.conf_int()\n",
        "#     ax = df.plot(label='observed', figsize=(14, 4))\n",
        "#     pred_uc.predicted_mean.plot(ax=ax, label='Forecast')\n",
        "#     ax.fill_between(pred_ci.index,\n",
        "#                     pred_ci.iloc[:, 0],\n",
        "#                     pred_ci.iloc[:, 1], color='k', alpha=.25)\n",
        "#     ax.set_xlabel('Month')\n",
        "#     ax.set_ylabel('Revenue')\n",
        "#     plt.legend()\n",
        "#     plt.show()\n",
        "    return(forecast.tail(n))"
      ],
      "execution_count": 9,
      "outputs": []
    },
    {
      "cell_type": "code",
      "metadata": {
        "id": "8jdgTGPszdlc",
        "colab_type": "code",
        "colab": {}
      },
      "source": [
        "def sarimax(train,exog_train,p,d,q,P,D,Q,M,summary=True):\n",
        "    arima = sm.tsa.statespace.SARIMAX(train,exog=exog_train,order=(p,d,q),seasonal_order=(P,D,Q,M),enforce_stationarity=False, enforce_invertibility=False).fit()\n",
        "    if summary==True:\n",
        "        arima.summary()\n",
        "    return(arima)"
      ],
      "execution_count": 10,
      "outputs": []
    },
    {
      "cell_type": "code",
      "metadata": {
        "id": "G8eG51Eszdkk",
        "colab_type": "code",
        "colab": {
          "base_uri": "https://localhost:8080/",
          "height": 73
        },
        "outputId": "9655e4ce-2517-4a47-9b7d-ff4d03cf9d63"
      },
      "source": [
        "\n",
        "\n",
        "cdata= pd.read_csv('finalDataset.csv', index_col=0)\n",
        "cdata['date'] =  pd.to_datetime(cdata['date'], infer_datetime_format=True)\n",
        "cdata = cdata.set_index('date')\n",
        "\n",
        "data_country = 'Albania'\n",
        "data_sub_region = 'Total'\n",
        "data_req_input = cdata.loc[cdata['country'] == data_country]\n",
        "data_req_in2 = data_req_input.loc[data_req_input['sub-region'] == data_sub_region]\n",
        "data = data_req_in2['Confirmed'].astype(float)\n",
        "# exog = cdata[['driving','transit','walking'],'date']\n",
        "exog = data_req_in2[['driving','transit','walking']].fillna(method='ffill').fillna(0).astype(float)\n",
        "\n",
        "p,d,q,P,D,Q,M = 1,1,1,1,0,0,12\n",
        "model = sarimax(data,None,p,d,q,P,D,Q,M,summary=False)\n",
        "\n",
        "#need to create the exog_forecast dataframe which contains exogenous variables for future time\n",
        "# forecast = fcast_sarimax(model,None,10)\n",
        "exog_list=['driving','walking','transit']\n",
        "exog_df = pd.DataFrame()\n",
        "for var in exog_list:\n",
        "    data_ = cdata[var]\n",
        "    model_ = sarimax(data_,None,p,d,q,P,D,Q,M,summary=False)\n",
        "    forecast_ = fcast_sarimax(model_,None,30)\n",
        "    exog_df[var] = forecast_\n",
        "\n",
        "# loop ended here\n",
        "#replace exog in last line with exog_df and 10 by 30\n",
        "\n",
        "forecast_drive = fcast_sarimax(model,exog_df,30)\n",
        "print(forecast_drive)\n"
      ],
      "execution_count": 3,
      "outputs": [
        {
          "output_type": "error",
          "ename": "NameError",
          "evalue": "name 'sarimax' is not defined",
          "traceback": [
            "\u001b[0;31m---------------------------------------------------------------------------\u001b[0m",
            "\u001b[0;31mNameError\u001b[0m                                 Traceback (most recent call last)",
            "\u001b[0;32m<ipython-input-3-16a3ccc2ad45>\u001b[0m in \u001b[0;36m<module>\u001b[0;34m\u001b[0m\n\u001b[1;32m     27\u001b[0m \u001b[0;34m\u001b[0m\u001b[0m\n\u001b[1;32m     28\u001b[0m \u001b[0mp\u001b[0m\u001b[0;34m,\u001b[0m\u001b[0md\u001b[0m\u001b[0;34m,\u001b[0m\u001b[0mq\u001b[0m\u001b[0;34m,\u001b[0m\u001b[0mP\u001b[0m\u001b[0;34m,\u001b[0m\u001b[0mD\u001b[0m\u001b[0;34m,\u001b[0m\u001b[0mQ\u001b[0m\u001b[0;34m,\u001b[0m\u001b[0mM\u001b[0m \u001b[0;34m=\u001b[0m \u001b[0;36m1\u001b[0m\u001b[0;34m,\u001b[0m\u001b[0;36m1\u001b[0m\u001b[0;34m,\u001b[0m\u001b[0;36m1\u001b[0m\u001b[0;34m,\u001b[0m\u001b[0;36m1\u001b[0m\u001b[0;34m,\u001b[0m\u001b[0;36m0\u001b[0m\u001b[0;34m,\u001b[0m\u001b[0;36m0\u001b[0m\u001b[0;34m,\u001b[0m\u001b[0;36m12\u001b[0m\u001b[0;34m\u001b[0m\u001b[0;34m\u001b[0m\u001b[0m\n\u001b[0;32m---> 29\u001b[0;31m \u001b[0mmodel\u001b[0m \u001b[0;34m=\u001b[0m \u001b[0msarimax\u001b[0m\u001b[0;34m(\u001b[0m\u001b[0mdata\u001b[0m\u001b[0;34m,\u001b[0m\u001b[0;32mNone\u001b[0m\u001b[0;34m,\u001b[0m\u001b[0mp\u001b[0m\u001b[0;34m,\u001b[0m\u001b[0md\u001b[0m\u001b[0;34m,\u001b[0m\u001b[0mq\u001b[0m\u001b[0;34m,\u001b[0m\u001b[0mP\u001b[0m\u001b[0;34m,\u001b[0m\u001b[0mD\u001b[0m\u001b[0;34m,\u001b[0m\u001b[0mQ\u001b[0m\u001b[0;34m,\u001b[0m\u001b[0mM\u001b[0m\u001b[0;34m,\u001b[0m\u001b[0msummary\u001b[0m\u001b[0;34m=\u001b[0m\u001b[0;32mFalse\u001b[0m\u001b[0;34m)\u001b[0m\u001b[0;34m\u001b[0m\u001b[0;34m\u001b[0m\u001b[0m\n\u001b[0m\u001b[1;32m     30\u001b[0m \u001b[0;34m\u001b[0m\u001b[0m\n\u001b[1;32m     31\u001b[0m \u001b[0;31m#need to create the exog_forecast dataframe which contains exogenous variables for future time\u001b[0m\u001b[0;34m\u001b[0m\u001b[0;34m\u001b[0m\u001b[0;34m\u001b[0m\u001b[0m\n",
            "\u001b[0;31mNameError\u001b[0m: name 'sarimax' is not defined"
          ]
        }
      ]
    },
    {
      "cell_type": "code",
      "execution_count": null,
      "metadata": {},
      "outputs": [],
      "source": []
    }
  ]
}